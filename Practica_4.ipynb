{
  "nbformat": 4,
  "nbformat_minor": 0,
  "metadata": {
    "colab": {
      "provenance": [],
      "authorship_tag": "ABX9TyPDRxNbpYCVsopxT8t8/Qdu",
      "include_colab_link": true
    },
    "kernelspec": {
      "name": "python3",
      "display_name": "Python 3"
    },
    "language_info": {
      "name": "python"
    }
  },
  "cells": [
    {
      "cell_type": "markdown",
      "metadata": {
        "id": "view-in-github",
        "colab_type": "text"
      },
      "source": [
        "<a href=\"https://colab.research.google.com/github/alejandra2826/Alejandra-Trujillo/blob/main/Practica_4.ipynb\" target=\"_parent\"><img src=\"https://colab.research.google.com/assets/colab-badge.svg\" alt=\"Open In Colab\"/></a>"
      ]
    },
    {
      "cell_type": "markdown",
      "source": [
        "#**PRACTICA 4**\n",
        "\n",
        "* **Nombre:** Alejandra Elizabeth Trujillo Navarro\n",
        "* **e-mail:** alejandra.trujillo2826@alumnos.udg.mx"
      ],
      "metadata": {
        "id": "Gyb2wWyE2aoA"
      }
    },
    {
      "cell_type": "markdown",
      "source": [
        " # **MODULES**"
      ],
      "metadata": {
        "id": "J2mwCI_A2p_V"
      }
    },
    {
      "cell_type": "code",
      "source": [
        "import panel as pn\n",
        "import panel.widgets as pnw\n",
        "\n",
        "pn.extension('plotly')\n",
        "\n",
        "import pandas as pd\n",
        "import numpy as np\n",
        "\n",
        "import plotly.graph_objects as go\n",
        "\n",
        "import math"
      ],
      "metadata": {
        "id": "BO9to4T92nAC"
      },
      "execution_count": null,
      "outputs": []
    },
    {
      "cell_type": "markdown",
      "source": [
        "#**CLASSES**"
      ],
      "metadata": {
        "id": "o9qZ3k5Z3UAZ"
      }
    },
    {
      "cell_type": "code",
      "source": [
        "################# http://www.pygame.org/wiki/2DVectorClass ##################\n",
        "class Vec2d(object):\n",
        "    \"\"\"2d vector class, supports vector and scalar operators,\n",
        "       and also provides a bunch of high level functions\n",
        "       \"\"\"\n",
        "    __slots__ = ['x', 'y']\n",
        "\n",
        "    def __init__(self, x_or_pair, y = None):\n",
        "        if y == None:\n",
        "            self.x = x_or_pair[0]\n",
        "            self.y = x_or_pair[1]\n",
        "        else:\n",
        "            self.x = x_or_pair\n",
        "            self.y = y\n",
        "\n",
        "    # Addition\n",
        "    def __add__(self, other):\n",
        "        if isinstance(other, Vec2d):\n",
        "            return Vec2d(self.x + other.x, self.y + other.y)\n",
        "        elif hasattr(other, \"__getitem__\"):\n",
        "            return Vec2d(self.x + other[0], self.y + other[1])\n",
        "        else:\n",
        "            return Vec2d(self.x + other, self.y + other)\n",
        "\n",
        "    # Subtraction\n",
        "    def __sub__(self, other):\n",
        "        if isinstance(other, Vec2d):\n",
        "            return Vec2d(self.x - other.x, self.y - other.y)\n",
        "        elif (hasattr(other, \"__getitem__\")):\n",
        "            return Vec2d(self.x - other[0], self.y - other[1])\n",
        "        else:\n",
        "            return Vec2d(self.x - other, self.y - other)\n",
        "\n",
        "    # Vector length\n",
        "    def get_length(self):\n",
        "        return math.sqrt(self.x**2 + self.y**2)\n",
        "\n",
        "    # rotate vector\n",
        "    def rotated(self, angle):\n",
        "        cos = math.cos(angle)\n",
        "        sin = math.sin(angle)\n",
        "        x = self.x*cos - self.y*sin\n",
        "        y = self.x*sin + self.y*cos\n",
        "        return Vec2d(x, y)"
      ],
      "metadata": {
        "id": "vFOi1KnH3Rqs"
      },
      "execution_count": null,
      "outputs": []
    },
    {
      "cell_type": "markdown",
      "source": [
        "* Funciones que generen trayectorias tipo Brownian Motion (BM)\n",
        "* Correlated Random\n",
        "* Walk (CRW) y Lévy Flight (LF)."
      ],
      "metadata": {
        "id": "_D2Ngjwa3iXV"
      }
    },
    {
      "cell_type": "code",
      "source": [
        "######################################################################\n",
        "# Brownian Motion Trajectory\n",
        "######################################################################\n",
        "def bm_2d(n_steps=1000, speed=5, s_pos=[0,0]):\n",
        "  \"\"\"\n",
        "  Arguments:\n",
        "    n_steps: number of steps the Brownian Trajectory will take -> int\n",
        "    speed: speed of the trajectory or step size -> int\n",
        "    s_pos: initial position -> [x,y] list\n",
        "  Returns:\n",
        "    BM_2d_df: DataFrame with x,y points of the full trajectory\n",
        "  \"\"\"\n",
        "\n",
        "  # Init velocity vector\n",
        "  velocity = Vec2d(speed, 0)\n",
        "\n",
        "  BM_2d_df = pd.DataFrame(columns = ['x_pos', 'y_pos'])\n",
        "  temp_df = pd.DataFrame([{'x_pos': s_pos[0], 'y_pos': s_pos[1]}])\n",
        "\n",
        "  BM_2d_df = pd.concat([BM_2d_df, temp_df], ignore_index=True)\n",
        "\n",
        "  for i in range(n_steps-1):\n",
        "    turn_angle = np.random.uniform(low=-np.pi, high=np.pi)\n",
        "    velocity = velocity.rotated(turn_angle)\n",
        "\n",
        "    temp_df = pd.DataFrame([{'x_pos': BM_2d_df.x_pos[i]+velocity.x, 'y_pos': BM_2d_df.y_pos[i]+velocity.y}])\n",
        "\n",
        "    BM_2d_df = pd.concat([BM_2d_df, temp_df], ignore_index=True)\n",
        "\n",
        "  return BM_2d_df"
      ],
      "metadata": {
        "id": "z_yamMJM342n"
      },
      "execution_count": null,
      "outputs": []
    },
    {
      "cell_type": "code",
      "source": [
        "# Correlated Random Walk\n",
        "def crw(n_steps=1000, velocidad=5, s_pos=[0, 0], exponente_CRW=0.5):\n",
        "\n",
        "    CRW_df = pd.DataFrame(columns=['x_pos', 'y_pos'])\n",
        "    temp_df = pd.DataFrame([{'x_pos': s_pos[0], 'y_pos': s_pos[1]}])\n",
        "    CRW_df = pd.concat([CRW_df, temp_df], ignore_index=True)\n",
        "\n",
        "    # Inicializar el vector de velocidad\n",
        "    velocidad_vector = np.array([velocidad, 0])\n",
        "\n",
        "    for i in range(n_steps - 1):\n",
        "        angulo_giro = np.random.standard_cauchy() * exponente_CRW\n",
        "        matriz_rotacion = np.array([[np.cos(angulo_giro), -np.sin(angulo_giro)],\n",
        "                                    [np.sin(angulo_giro), np.cos(angulo_giro)]])\n",
        "        velocidad_vector = np.dot(matriz_rotacion, velocidad_vector)\n",
        "\n",
        "        # Actualizar posición\n",
        "        nueva_posicion = np.array([CRW_df.x_pos[i] + velocidad_vector[0], CRW_df.y_pos[i] + velocidad_vector[1]])\n",
        "        temp_df = pd.DataFrame([{'x_pos': nueva_posicion[0], 'y_pos': nueva_posicion[1]}])\n",
        "        CRW_df = pd.concat([CRW_df, temp_df], ignore_index=True)\n",
        "\n",
        "    return CRW_df\n"
      ],
      "metadata": {
        "id": "VvOv5rpZ4I-s"
      },
      "execution_count": null,
      "outputs": []
    },
    {
      "cell_type": "code",
      "source": [
        "def levy_flight_alternative(n_steps=100, init_speed=10, start_pos=[0, 0], crw_exponent=0.5, alpha=1.5, beta=0, loc=3.0):\n",
        "    levy_df = pd.DataFrame(columns=['x_position', 'y_position'])\n",
        "    temp_df = pd.DataFrame([{'x_position': start_pos[0], 'y_position': start_pos[1]}])\n",
        "    levy_df = pd.concat([levy_df, temp_df], ignore_index=True)\n",
        "\n",
        "    for i in range(n_steps - 1):\n",
        "        # Select turn angle and step size\n",
        "        turn_angle = np.random.normal(scale=crw_exponent)\n",
        "        step_size = np.random.standard_cauchy() * alpha + loc\n",
        "\n",
        "        # Update position\n",
        "        new_position = [levy_df.x_position[i] + np.cos(turn_angle) * step_size,\n",
        "                        levy_df.y_position[i] + np.sin(turn_angle) * step_size]\n",
        "\n",
        "        temp_df = pd.DataFrame([{'x_position': new_position[0], 'y_position': new_position[1]}])\n",
        "        levy_df = pd.concat([levy_df, temp_df], ignore_index=True)\n",
        "\n",
        "    return levy_df"
      ],
      "metadata": {
        "id": "EReewERl-RSE"
      },
      "execution_count": null,
      "outputs": []
    }
  ]
}